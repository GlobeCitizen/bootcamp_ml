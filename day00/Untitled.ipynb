{
 "cells": [
  {
   "cell_type": "code",
   "execution_count": 1,
   "metadata": {},
   "outputs": [],
   "source": [
    "import numpy as np\n",
    "\n",
    "def sum_(x, f):\n",
    "    if x.size == 0:\n",
    "        return\n",
    "    res = 0\n",
    "    for  y in x:\n",
    "        res += f(y)\n",
    "\n",
    "    return float(res)"
   ]
  },
  {
   "cell_type": "code",
   "execution_count": 72,
   "metadata": {},
   "outputs": [],
   "source": [
    "x = np.array([1, 2 , 3])\n",
    "y = np.array([2, 3, 7])"
   ]
  },
  {
   "cell_type": "code",
   "execution_count": 80,
   "metadata": {},
   "outputs": [
    {
     "data": {
      "text/plain": [
       "array([ 2,  6, 21])"
      ]
     },
     "execution_count": 80,
     "metadata": {},
     "output_type": "execute_result"
    }
   ],
   "source": [
    "x * y"
   ]
  },
  {
   "cell_type": "code",
   "execution_count": 69,
   "metadata": {},
   "outputs": [],
   "source": [
    "a = np.array([0, 15, -9, 7, 12, 3, -21]).reshape((7,1))\n",
    "W = np.array([\n",
    "    [ -8, 8, -6, 14, 14, -9, -4],\n",
    "    [ 2, -11, -2, -11, 14, -2, 14],\n",
    "    [-13, -2, -5, 3, -8, -4, 13],\n",
    "    [ 2, 13, -14, -15, -14, -15, 13],\n",
    "    [ 2, -1, 12, 3, -7, -3, -6]])\n",
    "z = np.zeros((W.shape[0], 1))\n",
    "for x, i in zip(W, range(W.shape[0])):\n",
    "    z[i] = np.dot(x, a)"
   ]
  },
  {
   "cell_type": "code",
   "execution_count": 70,
   "metadata": {},
   "outputs": [
    {
     "data": {
      "text/plain": [
       "array([[ 497.],\n",
       "       [-356.],\n",
       "       [-345.],\n",
       "       [-270.],\n",
       "       [ -69.]])"
      ]
     },
     "execution_count": 70,
     "metadata": {},
     "output_type": "execute_result"
    }
   ],
   "source": [
    "z"
   ]
  },
  {
   "cell_type": "code",
   "execution_count": 22,
   "metadata": {},
   "outputs": [
    {
     "data": {
      "text/plain": [
       "array([  2, -11,  -2, -11,  14,  -2,  14])"
      ]
     },
     "execution_count": 22,
     "metadata": {},
     "output_type": "execute_result"
    }
   ],
   "source": [
    "a = np.array([ 2, -11, -2, -11, 14, -2, 14])\n",
    "a\n"
   ]
  },
  {
   "cell_type": "code",
   "execution_count": 25,
   "metadata": {},
   "outputs": [
    {
     "data": {
      "text/plain": [
       "array([646])"
      ]
     },
     "execution_count": 25,
     "metadata": {},
     "output_type": "execute_result"
    }
   ],
   "source": [
    "b = a.reshape(7,1)\n",
    "dot(a,b)"
   ]
  },
  {
   "cell_type": "code",
   "execution_count": 81,
   "metadata": {},
   "outputs": [
    {
     "data": {
      "text/plain": [
       "array([[  45,   45,   45,   45,   45],\n",
       "       [-244, -244, -244, -244, -244],\n",
       "       [  13,   13,   13,   13,   13],\n",
       "       [-412, -412, -412, -412, -412],\n",
       "       [ -67,  -67,  -67,  -67,  -67]])"
      ]
     },
     "execution_count": 81,
     "metadata": {},
     "output_type": "execute_result"
    }
   ],
   "source": [
    "import numpy as np\n",
    "\n",
    "def dot(x, y):\n",
    "    if x.size == 0 or y.size == 0 or x.size != y.size:\n",
    "        return\n",
    "    res = 0\n",
    "    for x_i, y_i in zip(x, y):\n",
    "        res += x_i * y_i\n",
    "    return (float(res))\n",
    "\n",
    "def mat_vec_prod(x, y):\n",
    "    if x.size == 0 or y.size == 0 or x.shape[1] != y.size:\n",
    "        return\n",
    "    z = np.ndarray((x.shape[0],1), dtype=int)\n",
    "    for i, x_i in zip(range(x.shape[0]), x):\n",
    "        z[i] = dot(x_i, y)\n",
    "    return z\n",
    "\n",
    "def mat_mat_prod(x, y):\n",
    "    if x.size == 0 or y.size == 0 or x.shape[1] != y.shape[0]:\n",
    "        return\n",
    "    z = np.zeros((x.shape[0], y.shape[1]), dtype=int)\n",
    "    for i in range(x.shape[0]):\n",
    "        for j in range(y.shape[1]):\n",
    "            for k in range(x.shape[1]):\n",
    "                z[i][j] += x[i][k] * y[k][i]\n",
    "    return z\n",
    "\n",
    "W = np.array([\n",
    "    [ -8, 8, -6, 14, 14, -9, -4],\n",
    "    [ 2, -11, -2, -11, 14, -2, 14],\n",
    "    [-13, -2, -5, 3, -8, -4, 13],\n",
    "    [ 2, 13, -14, -15, -14, -15, 13],\n",
    "    [ 2, -1, 12, 3, -7, -3, -6]])\n",
    "Z = np.array([\n",
    "    [ -6, -1, -8, 7, -8],\n",
    "        [ 7, 4, 0, -10, -10],\n",
    "        [ 7, -13, 2, 2, -11],\n",
    "        [ 3, 14, 7, 7, -4],\n",
    "        [ -1, -3, -8, -4, -14],\n",
    "        [ 9, -14, 9, 12, -7],\n",
    "        [ -9, -4, -10, -3, 6]])\n",
    "\n",
    "mat_mat_prod(W, Z)"
   ]
  },
  {
   "cell_type": "code",
   "execution_count": 147,
   "metadata": {},
   "outputs": [
    {
     "data": {
      "text/plain": [
       "array([  -708,  -1730, -45415])"
      ]
     },
     "execution_count": 147,
     "metadata": {},
     "output_type": "execute_result"
    }
   ],
   "source": [
    "def gradient(x, y, theta):\n",
    "    if x.size*y.size*theta.size == 0 or x.shape[1] != theta.size or x.shape[0] != y.size:\n",
    "        return\n",
    "    z = np.arange(theta.size)\n",
    "    for j in range(len(theta)):\n",
    "        res = 0\n",
    "        for x_i, y_i in zip(x, y):\n",
    "            res += sum(np.dot(np.dot(theta, x_i) - y_i, x_i ** j))\n",
    "        z[j] = res\n",
    "    return z\n",
    "\n",
    "X = np.array([\n",
    "    [ -6, -7, -9],\n",
    "        [ 13, -2, 14],\n",
    "        [ -7, 14, -1],\n",
    "        [ -8, -4, 6],\n",
    "        [ -5, -9, 6],\n",
    "        [ 1, -5, 11],\n",
    "        [ 9, -11, 8]])\n",
    "Y = np.array([2, 14, -13, 5, 12, 4, -19])\n",
    "Z = np.array([3,0.5,-6])\n",
    "\n",
    "gradient(X, Y, Z)"
   ]
  },
  {
   "cell_type": "code",
   "execution_count": 114,
   "metadata": {},
   "outputs": [
    {
     "data": {
      "text/plain": [
       "array([-183. , -213.5, -274.5])"
      ]
     },
     "execution_count": 114,
     "metadata": {},
     "output_type": "execute_result"
    }
   ],
   "source": [
    "X = np.array([\n",
    "    [ -6, -7, -9],\n",
    "        [ 13, -2, 14],\n",
    "        [ -7, 14, -1],\n",
    "        [ -8, -4, 6],\n",
    "        [ -5, -9, 6],\n",
    "        [ 1, -5, 11],\n",
    "        [ 9, -11, 8]])\n",
    "Y = np.array([2, 14, -13, 5, 12, 4, -19])\n",
    "Z = np.array([3,0.5,-6])\n",
    "np.dot((np.dot(X[0], Z) - Y[0]), X[0])"
   ]
  },
  {
   "cell_type": "code",
   "execution_count": 128,
   "metadata": {},
   "outputs": [
    {
     "data": {
      "text/plain": [
       "array([ 0,  1, 42])"
      ]
     },
     "execution_count": 128,
     "metadata": {},
     "output_type": "execute_result"
    }
   ],
   "source": [
    "x = np.arange(3)\n",
    "x[2] = 42\n",
    "x"
   ]
  }
 ],
 "metadata": {
  "kernelspec": {
   "display_name": "Python 3",
   "language": "python",
   "name": "python3"
  },
  "language_info": {
   "codemirror_mode": {
    "name": "ipython",
    "version": 3
   },
   "file_extension": ".py",
   "mimetype": "text/x-python",
   "name": "python",
   "nbconvert_exporter": "python",
   "pygments_lexer": "ipython3",
   "version": "3.7.4"
  }
 },
 "nbformat": 4,
 "nbformat_minor": 4
}
